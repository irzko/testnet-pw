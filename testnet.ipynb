{
 "cells": [
  {
   "cell_type": "markdown",
   "metadata": {},
   "source": [
    "# DỰ ÁN WARPGATE"
   ]
  },
  {
   "cell_type": "markdown",
   "metadata": {},
   "source": [
    "### 1. Thiết lập Playwright"
   ]
  },
  {
   "cell_type": "markdown",
   "metadata": {},
   "source": [
    "* Nhập các module cần thiết"
   ]
  },
  {
   "cell_type": "code",
   "execution_count": 1,
   "metadata": {},
   "outputs": [],
   "source": [
    "from playwright.async_api import async_playwright\n",
    "from generate_user import random_username\n",
    "import temp_mail"
   ]
  },
  {
   "cell_type": "markdown",
   "metadata": {},
   "source": [
    "* Thêm đường dẫn Extension của ví."
   ]
  },
  {
   "cell_type": "code",
   "execution_count": 2,
   "metadata": {},
   "outputs": [],
   "source": [
    "extensions_path = [\n",
    "    \"playwright/extensions/ejbalbakoplchlghecdalmeeeajnimhm/11.4.1_0\",\n",
    "]"
   ]
  },
  {
   "cell_type": "markdown",
   "metadata": {},
   "source": [
    "* Khởi tạo trình duyệt"
   ]
  },
  {
   "cell_type": "code",
   "execution_count": 3,
   "metadata": {},
   "outputs": [],
   "source": [
    "playwright = await async_playwright().start()\n",
    "browser = await playwright.chromium.launch_persistent_context(\n",
    "\n",
    "    user_data_dir=r\"playwright/profiles/1\",\n",
    "    channel=\"msedge\",\n",
    "    headless=False,\n",
    "    ignore_default_args=[\"--disable-extensions\"],\n",
    "    args=[\n",
    "        f\"--load-extension={','.join(extensions_path)}\",\n",
    "    ],\n",
    ")"
   ]
  },
  {
   "cell_type": "markdown",
   "metadata": {},
   "source": [
    "### 2. Thao tác bằng lệnh"
   ]
  },
  {
   "cell_type": "markdown",
   "metadata": {},
   "source": [
    "* Mở MetaMask và đăng nhập tài khoản"
   ]
  },
  {
   "cell_type": "code",
   "execution_count": 4,
   "metadata": {},
   "outputs": [],
   "source": [
    "metamask_page = await browser.new_page()\n",
    "await metamask_page.goto(\"chrome-extension://ejbalbakoplchlghecdalmeeeajnimhm/home.html\")\n",
    "\n",
    "input_tag = await metamask_page.wait_for_selector(\"#password\")\n",
    "await input_tag.fill(\"Kha1032001\")\n",
    "await input_tag.press(\"Enter\")"
   ]
  },
  {
   "cell_type": "markdown",
   "metadata": {},
   "source": [
    "* Mở Testnet"
   ]
  },
  {
   "cell_type": "code",
   "execution_count": 5,
   "metadata": {},
   "outputs": [],
   "source": [
    "testnet_page = await browser.new_page()\n",
    "await testnet_page.goto(\"https://testnet.warpgate.pro/?refer=mi1zghahpn\")\n",
    "await testnet_page.wait_for_selector('#headlessui-dialog-panel-\\:r1\\:')\n",
    "await testnet_page.evaluate('document.getElementsByTagName(\"input\")[4].click();')\n",
    "await testnet_page.evaluate('document.getElementsByTagName(\"input\")[5].click();')\n",
    "await testnet_page.get_by_text(\"Agree & Continue\").click()\n",
    "await testnet_page.get_by_text(\"Get Started\").click()\n",
    "await testnet_page.locator(selector=\"body > div:nth-child(3) > main > div > div > div > form > div > div.mt-8 > button\").click()\n",
    "await testnet_page.get_by_role(\"button\",name=\"MetaMask\").click()"
   ]
  },
  {
   "cell_type": "code",
   "execution_count": 6,
   "metadata": {},
   "outputs": [
    {
     "data": {
      "text/plain": [
       "<Response url='chrome-extension://ejbalbakoplchlghecdalmeeeajnimhm/home.html' request=<Request url='chrome-extension://ejbalbakoplchlghecdalmeeeajnimhm/home.html' method='GET'>>"
      ]
     },
     "execution_count": 6,
     "metadata": {},
     "output_type": "execute_result"
    }
   ],
   "source": [
    "await metamask_page.bring_to_front()\n",
    "await metamask_page.reload(wait_until=\"load\")"
   ]
  },
  {
   "cell_type": "markdown",
   "metadata": {},
   "source": [
    "* Tạo tài MetaMask khoản mới"
   ]
  },
  {
   "cell_type": "code",
   "execution_count": 7,
   "metadata": {},
   "outputs": [],
   "source": [
    "await metamask_page.get_by_text(\"New account\").click()\n",
    "await metamask_page.get_by_text(\"Save\").click()"
   ]
  },
  {
   "cell_type": "markdown",
   "metadata": {},
   "source": [
    "* Chọn tài khoản MetaMask vừa tạo"
   ]
  },
  {
   "cell_type": "code",
   "execution_count": 8,
   "metadata": {},
   "outputs": [],
   "source": [
    "checkbox_locator = metamask_page.locator(selector=\"input[type=checkbox]\")\n",
    "select_all_checkbox = checkbox_locator.first\n",
    "await select_all_checkbox.click()\n",
    "if await select_all_checkbox.is_checked():\n",
    "    await select_all_checkbox.click()\n",
    "\n",
    "last_checkbox = checkbox_locator.last\n",
    "if (not(await last_checkbox.is_checked())):\n",
    "    await last_checkbox.last.click()"
   ]
  },
  {
   "cell_type": "code",
   "execution_count": 9,
   "metadata": {},
   "outputs": [
    {
     "data": {
      "text/plain": [
       "<Response url='https://testnet.warpgate.pro/?refer=mi1zghahpn' request=<Request url='https://testnet.warpgate.pro/?refer=mi1zghahpn' method='GET'>>"
      ]
     },
     "execution_count": 9,
     "metadata": {},
     "output_type": "execute_result"
    }
   ],
   "source": [
    "await metamask_page.get_by_test_id(\"page-container-footer-next\").click()\n",
    "await metamask_page.get_by_test_id(\"page-container-footer-next\").click()\n",
    "await testnet_page.bring_to_front()\n",
    "await testnet_page.reload(wait_until=\"load\")"
   ]
  },
  {
   "cell_type": "code",
   "execution_count": 10,
   "metadata": {},
   "outputs": [],
   "source": [
    "await testnet_page.bring_to_front()\n",
    "await testnet_page.locator(selector=\"body > div:nth-child(3) > nav > div:nth-child(3) > button\").click()\n",
    "await testnet_page.get_by_text(\"Sign Message MetaMask\").click()\n",
    "\n",
    "await metamask_page.bring_to_front()\n",
    "while True:\n",
    "    status = await metamask_page.locator(selector=\".transaction-status-label.transaction-status-label--unapproved.transaction-status-label--unapproved\").inner_text()\n",
    "    if status == \"Unapproved\":\n",
    "        break\n",
    "await metamask_page.get_by_test_id(\"activity-list-item\").click(delay=2000)\n",
    "await metamask_page.get_by_test_id(\"page-container-footer-next\").click(delay=2000)\n",
    "await testnet_page.bring_to_front()\n",
    "await testnet_page.get_by_text(\"Collect Warp Points\").click()"
   ]
  },
  {
   "cell_type": "code",
   "execution_count": 15,
   "metadata": {},
   "outputs": [
    {
     "data": {
      "text/plain": [
       "<Response url='https://hub.immutable.com/login' request=<Request url='https://hub.immutable.com/login' method='GET'>>"
      ]
     },
     "execution_count": 15,
     "metadata": {},
     "output_type": "execute_result"
    }
   ],
   "source": [
    "mutable_page = await browser.new_page()\n",
    "await mutable_page.goto(\"https://hub.immutable.com/login\", wait_until=\"load\")\n",
    "await mutable_page.locator(selector=\"#__next > div.css-flcdcp > section > div > button\").click()\n",
    "mutable_auth_page = await browser.new_page()\n",
    "await mutable_auth_page.goto(\"https://hub.immutable.com/api/auth/login\")\n",
    "await mutable_auth_page.wait_for_selector(\"#\\:r1\\:\")"
   ]
  },
  {
   "cell_type": "code",
   "execution_count": 12,
   "metadata": {},
   "outputs": [],
   "source": [
    "email = await temp_mail.create_account()\n",
    "temp_mail.save_account(email['id'], email['address'], email['password'])\n",
    "await mutable_auth_page.get_by_test_id(\"TextInput__input\").fill(email[\"address\"])\n",
    "await mutable_auth_page.get_by_test_id(\"TextInput__rightButtonsContainer__rightButtCon\").click()"
   ]
  },
  {
   "cell_type": "code",
   "execution_count": 13,
   "metadata": {},
   "outputs": [],
   "source": [
    "token = await temp_mail.get_token(email[\"address\"], email[\"password\"])"
   ]
  },
  {
   "cell_type": "code",
   "execution_count": null,
   "metadata": {},
   "outputs": [],
   "source": [
    "\n",
    "import re\n",
    "import time\n",
    "list_num = None\n",
    "while True:\n",
    "    messages = await temp_mail.get_messages(token.token)\n",
    "    if (len(messages.hydra_member) != 0):\n",
    "        msg = messages.hydra_member[0].subject\n",
    "        number = re.findall(r'\\d+', msg)\n",
    "        list_num = [n for n in number[0]]\n",
    "        break\n",
    "    else:\n",
    "        time.sleep(5)"
   ]
  },
  {
   "cell_type": "code",
   "execution_count": null,
   "metadata": {},
   "outputs": [],
   "source": [
    "await mutable_auth_page.get_by_test_id(f\"passwordless_passcode__TextInput--0__input\").fill(list_num[0])\n",
    "await mutable_auth_page.get_by_test_id(f\"passwordless_passcode__TextInput--1__input\").fill(list_num[1])\n",
    "await mutable_auth_page.get_by_test_id(f\"passwordless_passcode__TextInput--2__input\").fill(list_num[2])\n",
    "await mutable_auth_page.get_by_test_id(f\"passwordless_passcode__TextInput--3__input\").fill(list_num[3])\n",
    "await mutable_auth_page.get_by_test_id(f\"passwordless_passcode__TextInput--4__input\").fill(list_num[4])\n",
    "await mutable_auth_page.get_by_test_id(f\"passwordless_passcode__TextInput--5__input\").fill(list_num[5])\n",
    "await mutable_auth_page.wait_for_timeout(3000)\n",
    "await mutable_auth_page.close()\n"
   ]
  },
  {
   "cell_type": "code",
   "execution_count": 16,
   "metadata": {},
   "outputs": [],
   "source": [
    "await mutable_page.reload(wait_until=\"load\")\n",
    "\n",
    "await mutable_page.get_by_role(\"button\", name=\"Continue\").click()\n",
    "await mutable_page.get_by_role(\"link\", name=\"Continue\").click(delay=1000)\n",
    "await mutable_page.wait_for_timeout(5000)"
   ]
  },
  {
   "cell_type": "code",
   "execution_count": 17,
   "metadata": {},
   "outputs": [],
   "source": [
    "iframe_onborading = mutable_page.frame_locator(\"#__next > div.my-form > div > iframe\")\n",
    "await iframe_onborading.get_by_label(\"Tool\").click()\n",
    "await iframe_onborading.get_by_label(\"Prototype\").click(delay=1000)\n",
    "await iframe_onborading.get_by_label(\"Already have VC\").click(delay=1000)\n",
    "await iframe_onborading.get_by_label(\"Just me\").click(delay=1000)\n",
    "await iframe_onborading.get_by_label(\"Engineer\").click(delay=1000)\n",
    "await iframe_onborading.get_by_label(\"Yes, but not using Immutable\").click(delay=1000)\n",
    "await iframe_onborading.get_by_label(\"No\").last.click(delay=1000)\n",
    "await iframe_onborading.get_by_placeholder(\"Type your answer here...\").fill(random_username())\n",
    "await iframe_onborading.get_by_role(\"button\", name=\"Submit\").click()"
   ]
  },
  {
   "cell_type": "code",
   "execution_count": 18,
   "metadata": {},
   "outputs": [],
   "source": [
    "await mutable_page.wait_for_timeout(5000)\n",
    "await mutable_page.locator(selector=\"#__next > div.MuiStack-root.css-1s0nkih > div > section > div.MuiBox-root.css-1ebprri > button\").click()\n",
    "await mutable_page.locator(selector=\"input\").first.fill(random_username())\n",
    "await mutable_page.get_by_role(\"button\", name=\"Save\").click()\n",
    "await mutable_page.wait_for_timeout(5000)\n",
    "await mutable_page.locator(selector=\"input\").first.fill(random_username())\n",
    "await mutable_page.get_by_role(\"button\", name=\"Save\").click()\n"
   ]
  },
  {
   "cell_type": "code",
   "execution_count": 19,
   "metadata": {},
   "outputs": [],
   "source": [
    "await metamask_page.get_by_test_id(\"account-options-menu-button\").click()\n",
    "await metamask_page.get_by_test_id(\"account-list-menu-details\").click()\n",
    "wallet_address = await metamask_page.locator(selector=\"body > div.mm-modal > div:nth-child(3) > div > section > div.mm-box.mm-box--display-flex.mm-box--flex-direction-column.mm-box--align-items-center > div.qr-code > div.box.box--margin-bottom-6.box--flex-direction-row > div > button\").inner_text()"
   ]
  },
  {
   "cell_type": "code",
   "execution_count": 20,
   "metadata": {},
   "outputs": [],
   "source": [
    "await mutable_page.bring_to_front()\n",
    "await mutable_page.get_by_text(\"Faucet\").click()\n",
    "await mutable_page.get_by_test_id(\"TextInput__input\").fill(wallet_address)\n",
    "await mutable_page.get_by_role(\"button\", name=\"Receive 2 Test-IMX\").click()\n",
    "await mutable_page.get_by_role(\"button\", name=\"I agree\").click()"
   ]
  },
  {
   "cell_type": "code",
   "execution_count": 21,
   "metadata": {},
   "outputs": [],
   "source": [
    "await testnet_page.bring_to_front()\n",
    "await testnet_page.reload(wait_until=\"load\")\n",
    "await mutable_page.close()\n",
    "await testnet_page.wait_for_timeout(5000)"
   ]
  },
  {
   "cell_type": "code",
   "execution_count": 43,
   "metadata": {},
   "outputs": [],
   "source": [
    "async def swap():\n",
    "    await testnet_page.locator(selector=\"body > div:nth-child(3) > main > div > div > div > form > div > div.bg-white\\/5.p-0\\.5.rounded-2xl > div:nth-child(1) > div.flex.items-center.gap-4 > div:nth-child(1) > input\").fill(\"0.05\")\n",
    "    await testnet_page.wait_for_timeout(3000)\n",
    "    while True:\n",
    "        status = await testnet_page.locator(selector=\"body > div:nth-child(3) > main > div > div > div > form > div > div.mt-8 > button > div\").inner_text()\n",
    "        if status == \"SWAP\":\n",
    "            break\n",
    "        else:\n",
    "            await testnet_page.wait_for_timeout(1000)\n",
    "    await testnet_page.locator(selector=\"body > div:nth-child(3) > main > div > div > div > form > div > div.mt-8 > button\").click()\n",
    "    await testnet_page.get_by_text(\"Confirm Swap\").last.click()\n"
   ]
  },
  {
   "cell_type": "code",
   "execution_count": 26,
   "metadata": {},
   "outputs": [],
   "source": [
    "await swap()\n",
    "await metamask_page.bring_to_front()\n",
    "await metamask_page.reload(wait_until=\"load\")\n",
    "while True:\n",
    "    status = await metamask_page.locator(selector=\".transaction-status-label.transaction-status-label--unapproved.transaction-status-label--unapproved\").inner_text()\n",
    "    if status == \"Unapproved\":\n",
    "        break\n",
    "await metamask_page.get_by_test_id(\"activity-list-item\").first.click()\n",
    "await metamask_page.get_by_test_id(\"page-container-footer-next\").click()\n",
    "await testnet_page.bring_to_front()\n",
    "await testnet_page.get_by_text(\"Done\").last.click()"
   ]
  },
  {
   "cell_type": "code",
   "execution_count": 28,
   "metadata": {},
   "outputs": [],
   "source": [
    "async def confirm_transaction():\n",
    "    await metamask_page.bring_to_front()\n",
    "    while True:\n",
    "        status = await metamask_page.locator(selector=\".transaction-status-label.transaction-status-label--unapproved.transaction-status-label--unapproved\").inner_text()\n",
    "        if status == \"Unapproved\":\n",
    "            break\n",
    "    await metamask_page.get_by_test_id(\"activity-list-item\").first.click()\n",
    "    await metamask_page.get_by_test_id(\"page-container-footer-next\").click()\n",
    "    await testnet_page.bring_to_front()\n",
    "    await testnet_page.get_by_text(\"Done\").last.click()"
   ]
  },
  {
   "cell_type": "markdown",
   "metadata": {},
   "source": [
    "* Swap với USDC"
   ]
  },
  {
   "cell_type": "code",
   "execution_count": null,
   "metadata": {},
   "outputs": [],
   "source": [
    "await testnet_page.locator(selector=\"body > div:nth-child(3) > main > div > div > div > form > div > div.bg-white\\/5.p-0\\.5.rounded-2xl > div:nth-child(3) > div.flex.items-center.gap-4 > div.relative.select-none.cursor-pointer > div > input\").click()\n",
    "await testnet_page.locator(selector=\"div.mt-3.flex.flex-col.overflow-y-auto.h-64 > button:nth-child(3)\").click()\n",
    "await swap()\n",
    "await confirm_transaction()"
   ]
  },
  {
   "cell_type": "markdown",
   "metadata": {},
   "source": [
    "* Swap với UNDEAD"
   ]
  },
  {
   "cell_type": "code",
   "execution_count": 44,
   "metadata": {},
   "outputs": [],
   "source": [
    "await testnet_page.locator(selector=\"body > div:nth-child(3) > main > div > div > div > form > div > div.bg-white\\/5.p-0\\.5.rounded-2xl > div:nth-child(3) > div.flex.items-center.gap-4 > div.relative.select-none.cursor-pointer > div > input\").click()\n",
    "await testnet_page.locator(selector=\"div.mt-3.flex.flex-col.overflow-y-auto.h-64 > button:nth-child(6)\").click()\n",
    "await swap()\n",
    "await confirm_transaction()"
   ]
  },
  {
   "cell_type": "code",
   "execution_count": 45,
   "metadata": {},
   "outputs": [],
   "source": [
    "async def add_liquidity():\n",
    "    await testnet_page.locator(selector=\"body > div:nth-child(3) > main > div > div.flex.flex-col.sm\\:flex-row.justify-between.items-center.gap-4 > div > div > button\").click()\n",
    "\n",
    "async def confirm_add_liquidity():\n",
    "    # await testnet_page.get_by_text(\"Add Liquidity\").nth(1).click()\n",
    "    await testnet_page.locator(selector=\"body > div:nth-child(3) > main > div > form > div.flex.flex-col.md\\:flex-row.justify-center.items-start.gap-10.mt-6 > div.w-full.xl\\:w-\\[382px\\] > div.mt-8 > button\").click()\n",
    "    await testnet_page.get_by_text(\"Confirm Add Liquidity\").last.click()\n",
    "    await metamask_page.bring_to_front()\n",
    "    while True:\n",
    "        status = await metamask_page.locator(selector=\".transaction-status-label.transaction-status-label--unapproved.transaction-status-label--unapproved\").inner_text()\n",
    "        if status == \"Unapproved\":\n",
    "            await metamask_page.get_by_test_id(\"activity-list-item\").first.click()\n",
    "            await metamask_page.get_by_test_id(\"page-container-footer-next\").click()\n",
    "            await metamask_page.get_by_test_id(\"page-container-footer-next\").click()\n",
    "            break\n",
    "    while True:\n",
    "        status = await metamask_page.locator(selector=\".transaction-status-label.transaction-status-label--unapproved.transaction-status-label--unapproved\").inner_text()\n",
    "        if status == \"Unapproved\":\n",
    "            await metamask_page.get_by_test_id(\"activity-list-item\").first.click()\n",
    "            await metamask_page.get_by_test_id(\"page-container-footer-next\").click()\n",
    "            break\n",
    "    await testnet_page.bring_to_front()\n",
    "    await testnet_page.get_by_text(\"Done\").last.click()\n",
    "    \n"
   ]
  },
  {
   "cell_type": "code",
   "execution_count": 46,
   "metadata": {},
   "outputs": [],
   "source": [
    "await testnet_page.bring_to_front()\n",
    "await testnet_page.goto(\"https://testnet.warpgate.pro/liquidity\", wait_until=\"load\")\n",
    "await add_liquidity()"
   ]
  },
  {
   "cell_type": "code",
   "execution_count": 47,
   "metadata": {},
   "outputs": [],
   "source": [
    "await testnet_page.locator(selector=\"body > div:nth-child(3) > main > div > form > div.flex.flex-col.md\\:flex-row.justify-center.items-start.gap-10.mt-6 > div.w-full.xl\\:w-\\[385px\\] > div.mt-3\\.5 > div:nth-child(3) > div.flex-1.flex.flex-col.items-end > div.flex.items-center.gap-1 > button:nth-child(3)\").last.click()\n",
    "await confirm_add_liquidity()"
   ]
  },
  {
   "cell_type": "code",
   "execution_count": 48,
   "metadata": {},
   "outputs": [],
   "source": [
    "await add_liquidity()\n",
    "await testnet_page.locator(selector=\"body > div:nth-child(3) > main > div > form > div.flex.flex-col.md\\:flex-row.justify-center.items-start.gap-10.mt-6 > div.w-full.xl\\:w-\\[385px\\] > div.flex.items-center.gap-3.mt-3.false > div:nth-child(1) > div > input\").click()\n",
    "await testnet_page.locator(selector=\"div.mt-3.flex.flex-col.overflow-y-auto.h-64 > button:nth-child(2)\").click()\n",
    "\n",
    "await testnet_page.locator(selector=\"body > div:nth-child(3) > main > div > form > div.flex.flex-col.md\\:flex-row.justify-center.items-start.gap-10.mt-6 > div.w-full.xl\\:w-\\[385px\\] > div.flex.items-center.gap-3.mt-3.false > div:nth-child(3) > div > input\").click()\n",
    "await testnet_page.locator(selector=\"div.mt-3.flex.flex-col.overflow-y-auto.h-64 > button:nth-child(1)\").click()\n",
    "\n",
    "await testnet_page.locator(selector=\"body > div:nth-child(3) > main > div > form > div.flex.flex-col.md\\:flex-row.justify-center.items-start.gap-10.mt-6 > div.w-full.xl\\:w-\\[385px\\] > div.mt-3\\.5 > div:nth-child(1) > div.flex-1.flex.flex-col.items-end > div.flex.items-center.gap-1 > button:nth-child(3)\").last.click()\n",
    "await confirm_add_liquidity()"
   ]
  },
  {
   "cell_type": "code",
   "execution_count": null,
   "metadata": {},
   "outputs": [],
   "source": [
    "await add_liquidity()\n",
    "await testnet_page.locator(selector=\"body > div:nth-child(3) > main > div > form > div.flex.flex-col.md\\:flex-row.justify-center.items-start.gap-10.mt-6 > div.w-full.xl\\:w-\\[385px\\] > div.flex.items-center.gap-3.mt-3.false > div:nth-child(1) > div > input\").click()\n",
    "await testnet_page.locator(selector=\"div.mt-3.flex.flex-col.overflow-y-auto.h-64 > button:nth-child(5)\").click()\n",
    "\n",
    "await testnet_page.locator(selector=\"body > div:nth-child(3) > main > div > form > div.flex.flex-col.md\\:flex-row.justify-center.items-start.gap-10.mt-6 > div.w-full.xl\\:w-\\[385px\\] > div.flex.items-center.gap-3.mt-3.false > div:nth-child(3) > div > input\").click()\n",
    "await testnet_page.locator(selector=\"div.mt-3.flex.flex-col.overflow-y-auto.h-64 > button:nth-child(1)\").click()\n",
    "\n",
    "await testnet_page.locator(selector=\"body > div:nth-child(3) > main > div > form > div.flex.flex-col.md\\:flex-row.justify-center.items-start.gap-10.mt-6 > div.w-full.xl\\:w-\\[385px\\] > div.mt-3\\.5 > div:nth-child(1) > div.flex-1.flex.flex-col.items-end > div.flex.items-center.gap-1 > button:nth-child(3)\").last.click()\n",
    "await confirm_add_liquidity()\n"
   ]
  },
  {
   "cell_type": "code",
   "execution_count": 50,
   "metadata": {},
   "outputs": [],
   "source": [
    "await testnet_page.get_by_text(\"Swap\").click()"
   ]
  },
  {
   "cell_type": "code",
   "execution_count": 51,
   "metadata": {},
   "outputs": [],
   "source": [
    "await testnet_page.locator(selector=\"body > div:nth-child(3) > main > div > div > div > form > div > div.bg-white\\/5.p-0\\.5.rounded-2xl > div:nth-child(1) > div.flex.items-center.gap-4 > div.relative.select-none.cursor-pointer > div > input\").click()\n",
    "await testnet_page.locator(selector=\"div.mt-3.flex.flex-col.overflow-y-auto.h-64 > button:nth-child(1)\").click()\n",
    "await testnet_page.locator(selector=\"body > div:nth-child(3) > main > div > div > div > form > div > div.bg-white\\/5.p-0\\.5.rounded-2xl > div:nth-child(3) > div.flex.items-center.gap-4 > div.relative.select-none.cursor-pointer > div > input\").click()\n",
    "await testnet_page.locator(selector=\"div.mt-3.flex.flex-col.overflow-y-auto.h-64 > button:nth-child(9)\").click()"
   ]
  },
  {
   "cell_type": "code",
   "execution_count": 52,
   "metadata": {},
   "outputs": [],
   "source": [
    "await testnet_page.locator(selector=\"body > div:nth-child(3) > main > div > div > div > form > div > div.bg-white\\/5.p-0\\.5.rounded-2xl > div:nth-child(1) > div.flex-1.flex.flex-col.items-end > div.flex.items-center.gap-1 > button:nth-child(2)\").click()"
   ]
  },
  {
   "cell_type": "code",
   "execution_count": 53,
   "metadata": {},
   "outputs": [],
   "source": [
    "await swap()\n",
    "await confirm_transaction()"
   ]
  },
  {
   "cell_type": "code",
   "execution_count": 54,
   "metadata": {},
   "outputs": [],
   "source": [
    "await testnet_page.locator(selector=\"body > div:nth-child(3) > main > div > div > div > form > div > div.bg-white\\/5.p-0\\.5.rounded-2xl > div.rounded-full.w-16.h-16.flex.justify-center.items-center.mx-auto.relative.undefined > div.text-white.p-1.bg-white\\/10.flex.justify-center.items-center.rounded-full.cursor-pointer.relative.z-10.hover\\:scale-125.hover\\:text-warp-gate-primary.transform.animation\").click()\n",
    "await testnet_page.locator(selector=\"body > div:nth-child(3) > main > div > div > div > form > div > div.bg-white\\/5.p-0\\.5.rounded-2xl > div:nth-child(1) > div.flex-1.flex.flex-col.items-end > div.flex.items-center.gap-1 > button:nth-child(1)\").click()"
   ]
  },
  {
   "cell_type": "code",
   "execution_count": 56,
   "metadata": {},
   "outputs": [
    {
     "ename": "TimeoutError",
     "evalue": "Timeout 30000ms exceeded.",
     "output_type": "error",
     "traceback": [
      "\u001b[0;31m---------------------------------------------------------------------------\u001b[0m",
      "\u001b[0;31mTimeoutError\u001b[0m                              Traceback (most recent call last)",
      "Cell \u001b[0;32mIn[56], line 6\u001b[0m\n\u001b[1;32m      3\u001b[0m \u001b[38;5;28;01mawait\u001b[39;00m metamask_page\u001b[38;5;241m.\u001b[39mreload(wait_until\u001b[38;5;241m=\u001b[39m\u001b[38;5;124m\"\u001b[39m\u001b[38;5;124mload\u001b[39m\u001b[38;5;124m\"\u001b[39m)\n\u001b[1;32m      5\u001b[0m \u001b[38;5;28;01mawait\u001b[39;00m metamask_page\u001b[38;5;241m.\u001b[39mget_by_test_id(\u001b[38;5;124m\"\u001b[39m\u001b[38;5;124mpage-container-footer-next\u001b[39m\u001b[38;5;124m\"\u001b[39m)\u001b[38;5;241m.\u001b[39mclick()\n\u001b[0;32m----> 6\u001b[0m \u001b[38;5;28;01mawait\u001b[39;00m metamask_page\u001b[38;5;241m.\u001b[39mget_by_test_id(\u001b[38;5;124m\"\u001b[39m\u001b[38;5;124mpage-container-footer-next\u001b[39m\u001b[38;5;124m\"\u001b[39m)\u001b[38;5;241m.\u001b[39mclick()\n\u001b[1;32m      7\u001b[0m \u001b[38;5;28;01mwhile\u001b[39;00m \u001b[38;5;28;01mTrue\u001b[39;00m:\n\u001b[1;32m      8\u001b[0m     status \u001b[38;5;241m=\u001b[39m \u001b[38;5;28;01mawait\u001b[39;00m metamask_page\u001b[38;5;241m.\u001b[39mlocator(selector\u001b[38;5;241m=\u001b[39m\u001b[38;5;124m\"\u001b[39m\u001b[38;5;124m.transaction-status-label.transaction-status-label--unapproved.transaction-status-label--unapproved\u001b[39m\u001b[38;5;124m\"\u001b[39m)\u001b[38;5;241m.\u001b[39minner_text()\n",
      "File \u001b[0;32m~/.local/lib/python3.10/site-packages/playwright/async_api/_generated.py:15706\u001b[0m, in \u001b[0;36mLocator.click\u001b[0;34m(self, modifiers, position, delay, button, click_count, timeout, force, no_wait_after, trial)\u001b[0m\n\u001b[1;32m  15619\u001b[0m \u001b[38;5;28;01masync\u001b[39;00m \u001b[38;5;28;01mdef\u001b[39;00m \u001b[38;5;21mclick\u001b[39m(\n\u001b[1;32m  15620\u001b[0m     \u001b[38;5;28mself\u001b[39m,\n\u001b[1;32m  15621\u001b[0m     \u001b[38;5;241m*\u001b[39m,\n\u001b[0;32m   (...)\u001b[0m\n\u001b[1;32m  15632\u001b[0m     trial: typing\u001b[38;5;241m.\u001b[39mOptional[\u001b[38;5;28mbool\u001b[39m] \u001b[38;5;241m=\u001b[39m \u001b[38;5;28;01mNone\u001b[39;00m\n\u001b[1;32m  15633\u001b[0m ) \u001b[38;5;241m-\u001b[39m\u001b[38;5;241m>\u001b[39m \u001b[38;5;28;01mNone\u001b[39;00m:\n\u001b[1;32m  15634\u001b[0m \u001b[38;5;250m    \u001b[39m\u001b[38;5;124;03m\"\"\"Locator.click\u001b[39;00m\n\u001b[1;32m  15635\u001b[0m \n\u001b[1;32m  15636\u001b[0m \u001b[38;5;124;03m    Click an element.\u001b[39;00m\n\u001b[0;32m   (...)\u001b[0m\n\u001b[1;32m  15702\u001b[0m \u001b[38;5;124;03m        to `false`. Useful to wait until the element is ready for the action without performing it.\u001b[39;00m\n\u001b[1;32m  15703\u001b[0m \u001b[38;5;124;03m    \"\"\"\u001b[39;00m\n\u001b[1;32m  15705\u001b[0m     \u001b[38;5;28;01mreturn\u001b[39;00m mapping\u001b[38;5;241m.\u001b[39mfrom_maybe_impl(\n\u001b[0;32m> 15706\u001b[0m         \u001b[38;5;28;01mawait\u001b[39;00m \u001b[38;5;28mself\u001b[39m\u001b[38;5;241m.\u001b[39m_impl_obj\u001b[38;5;241m.\u001b[39mclick(\n\u001b[1;32m  15707\u001b[0m             modifiers\u001b[38;5;241m=\u001b[39mmapping\u001b[38;5;241m.\u001b[39mto_impl(modifiers),\n\u001b[1;32m  15708\u001b[0m             position\u001b[38;5;241m=\u001b[39mposition,\n\u001b[1;32m  15709\u001b[0m             delay\u001b[38;5;241m=\u001b[39mdelay,\n\u001b[1;32m  15710\u001b[0m             button\u001b[38;5;241m=\u001b[39mbutton,\n\u001b[1;32m  15711\u001b[0m             clickCount\u001b[38;5;241m=\u001b[39mclick_count,\n\u001b[1;32m  15712\u001b[0m             timeout\u001b[38;5;241m=\u001b[39mtimeout,\n\u001b[1;32m  15713\u001b[0m             force\u001b[38;5;241m=\u001b[39mforce,\n\u001b[1;32m  15714\u001b[0m             noWaitAfter\u001b[38;5;241m=\u001b[39mno_wait_after,\n\u001b[1;32m  15715\u001b[0m             trial\u001b[38;5;241m=\u001b[39mtrial,\n\u001b[1;32m  15716\u001b[0m         )\n\u001b[1;32m  15717\u001b[0m     )\n",
      "File \u001b[0;32m~/.local/lib/python3.10/site-packages/playwright/_impl/_locator.py:159\u001b[0m, in \u001b[0;36mLocator.click\u001b[0;34m(self, modifiers, position, delay, button, clickCount, timeout, force, noWaitAfter, trial)\u001b[0m\n\u001b[1;32m    146\u001b[0m \u001b[38;5;28;01masync\u001b[39;00m \u001b[38;5;28;01mdef\u001b[39;00m \u001b[38;5;21mclick\u001b[39m(\n\u001b[1;32m    147\u001b[0m     \u001b[38;5;28mself\u001b[39m,\n\u001b[1;32m    148\u001b[0m     modifiers: List[KeyboardModifier] \u001b[38;5;241m=\u001b[39m \u001b[38;5;28;01mNone\u001b[39;00m,\n\u001b[0;32m   (...)\u001b[0m\n\u001b[1;32m    156\u001b[0m     trial: \u001b[38;5;28mbool\u001b[39m \u001b[38;5;241m=\u001b[39m \u001b[38;5;28;01mNone\u001b[39;00m,\n\u001b[1;32m    157\u001b[0m ) \u001b[38;5;241m-\u001b[39m\u001b[38;5;241m>\u001b[39m \u001b[38;5;28;01mNone\u001b[39;00m:\n\u001b[1;32m    158\u001b[0m     params \u001b[38;5;241m=\u001b[39m locals_to_params(\u001b[38;5;28mlocals\u001b[39m())\n\u001b[0;32m--> 159\u001b[0m     \u001b[38;5;28;01mreturn\u001b[39;00m \u001b[38;5;28;01mawait\u001b[39;00m \u001b[38;5;28mself\u001b[39m\u001b[38;5;241m.\u001b[39m_frame\u001b[38;5;241m.\u001b[39mclick(\u001b[38;5;28mself\u001b[39m\u001b[38;5;241m.\u001b[39m_selector, strict\u001b[38;5;241m=\u001b[39m\u001b[38;5;28;01mTrue\u001b[39;00m, \u001b[38;5;241m*\u001b[39m\u001b[38;5;241m*\u001b[39mparams)\n",
      "File \u001b[0;32m~/.local/lib/python3.10/site-packages/playwright/_impl/_frame.py:484\u001b[0m, in \u001b[0;36mFrame.click\u001b[0;34m(self, selector, modifiers, position, delay, button, clickCount, timeout, force, noWaitAfter, strict, trial)\u001b[0m\n\u001b[1;32m    470\u001b[0m \u001b[38;5;28;01masync\u001b[39;00m \u001b[38;5;28;01mdef\u001b[39;00m \u001b[38;5;21mclick\u001b[39m(\n\u001b[1;32m    471\u001b[0m     \u001b[38;5;28mself\u001b[39m,\n\u001b[1;32m    472\u001b[0m     selector: \u001b[38;5;28mstr\u001b[39m,\n\u001b[0;32m   (...)\u001b[0m\n\u001b[1;32m    482\u001b[0m     trial: \u001b[38;5;28mbool\u001b[39m \u001b[38;5;241m=\u001b[39m \u001b[38;5;28;01mNone\u001b[39;00m,\n\u001b[1;32m    483\u001b[0m ) \u001b[38;5;241m-\u001b[39m\u001b[38;5;241m>\u001b[39m \u001b[38;5;28;01mNone\u001b[39;00m:\n\u001b[0;32m--> 484\u001b[0m     \u001b[38;5;28;01mawait\u001b[39;00m \u001b[38;5;28mself\u001b[39m\u001b[38;5;241m.\u001b[39m_channel\u001b[38;5;241m.\u001b[39msend(\u001b[38;5;124m\"\u001b[39m\u001b[38;5;124mclick\u001b[39m\u001b[38;5;124m\"\u001b[39m, locals_to_params(\u001b[38;5;28mlocals\u001b[39m()))\n",
      "File \u001b[0;32m~/.local/lib/python3.10/site-packages/playwright/_impl/_connection.py:62\u001b[0m, in \u001b[0;36mChannel.send\u001b[0;34m(self, method, params)\u001b[0m\n\u001b[1;32m     61\u001b[0m \u001b[38;5;28;01masync\u001b[39;00m \u001b[38;5;28;01mdef\u001b[39;00m \u001b[38;5;21msend\u001b[39m(\u001b[38;5;28mself\u001b[39m, method: \u001b[38;5;28mstr\u001b[39m, params: Dict \u001b[38;5;241m=\u001b[39m \u001b[38;5;28;01mNone\u001b[39;00m) \u001b[38;5;241m-\u001b[39m\u001b[38;5;241m>\u001b[39m Any:\n\u001b[0;32m---> 62\u001b[0m     \u001b[38;5;28;01mreturn\u001b[39;00m \u001b[38;5;28;01mawait\u001b[39;00m \u001b[38;5;28mself\u001b[39m\u001b[38;5;241m.\u001b[39m_connection\u001b[38;5;241m.\u001b[39mwrap_api_call(\n\u001b[1;32m     63\u001b[0m         \u001b[38;5;28;01mlambda\u001b[39;00m: \u001b[38;5;28mself\u001b[39m\u001b[38;5;241m.\u001b[39minner_send(method, params, \u001b[38;5;28;01mFalse\u001b[39;00m)\n\u001b[1;32m     64\u001b[0m     )\n",
      "File \u001b[0;32m~/.local/lib/python3.10/site-packages/playwright/_impl/_connection.py:492\u001b[0m, in \u001b[0;36mConnection.wrap_api_call\u001b[0;34m(self, cb, is_internal)\u001b[0m\n\u001b[1;32m    490\u001b[0m \u001b[38;5;28mself\u001b[39m\u001b[38;5;241m.\u001b[39m_api_zone\u001b[38;5;241m.\u001b[39mset(_extract_stack_trace_information_from_stack(st, is_internal))\n\u001b[1;32m    491\u001b[0m \u001b[38;5;28;01mtry\u001b[39;00m:\n\u001b[0;32m--> 492\u001b[0m     \u001b[38;5;28;01mreturn\u001b[39;00m \u001b[38;5;28;01mawait\u001b[39;00m cb()\n\u001b[1;32m    493\u001b[0m \u001b[38;5;28;01mfinally\u001b[39;00m:\n\u001b[1;32m    494\u001b[0m     \u001b[38;5;28mself\u001b[39m\u001b[38;5;241m.\u001b[39m_api_zone\u001b[38;5;241m.\u001b[39mset(\u001b[38;5;28;01mNone\u001b[39;00m)\n",
      "File \u001b[0;32m~/.local/lib/python3.10/site-packages/playwright/_impl/_connection.py:100\u001b[0m, in \u001b[0;36mChannel.inner_send\u001b[0;34m(self, method, params, return_as_dict)\u001b[0m\n\u001b[1;32m     98\u001b[0m \u001b[38;5;28;01mif\u001b[39;00m \u001b[38;5;129;01mnot\u001b[39;00m callback\u001b[38;5;241m.\u001b[39mfuture\u001b[38;5;241m.\u001b[39mdone():\n\u001b[1;32m     99\u001b[0m     callback\u001b[38;5;241m.\u001b[39mfuture\u001b[38;5;241m.\u001b[39mcancel()\n\u001b[0;32m--> 100\u001b[0m result \u001b[38;5;241m=\u001b[39m \u001b[38;5;28;43mnext\u001b[39;49m\u001b[43m(\u001b[49m\u001b[38;5;28;43miter\u001b[39;49m\u001b[43m(\u001b[49m\u001b[43mdone\u001b[49m\u001b[43m)\u001b[49m\u001b[43m)\u001b[49m\u001b[38;5;241;43m.\u001b[39;49m\u001b[43mresult\u001b[49m\u001b[43m(\u001b[49m\u001b[43m)\u001b[49m\n\u001b[1;32m    101\u001b[0m \u001b[38;5;66;03m# Protocol now has named return values, assume result is one level deeper unless\u001b[39;00m\n\u001b[1;32m    102\u001b[0m \u001b[38;5;66;03m# there is explicit ambiguity.\u001b[39;00m\n\u001b[1;32m    103\u001b[0m \u001b[38;5;28;01mif\u001b[39;00m \u001b[38;5;129;01mnot\u001b[39;00m result:\n",
      "\u001b[0;31mTimeoutError\u001b[0m: Timeout 30000ms exceeded."
     ]
    }
   ],
   "source": [
    "await swap()\n",
    "await metamask_page.bring_to_front()\n",
    "await metamask_page.reload(wait_until=\"load\")\n",
    "\n",
    "await metamask_page.get_by_test_id(\"page-container-footer-next\").click()\n",
    "await metamask_page.get_by_test_id(\"page-container-footer-next\").click()\n",
    "while True:\n",
    "    status = await metamask_page.locator(selector=\".transaction-status-label.transaction-status-label--unapproved.transaction-status-label--unapproved\").inner_text()\n",
    "    if status == \"Unapproved\":\n",
    "        await metamask_page.get_by_test_id(\"activity-list-item\").first.click()\n",
    "        await metamask_page.get_by_test_id(\"page-container-footer-next\").click()\n",
    "        break\n",
    "# while True:\n",
    "#     status = await metamask_page.locator(selector=\".transaction-status-label.transaction-status-label--unapproved.transaction-status-label--unapproved\").inner_text()\n",
    "#     if status == \"Unapproved\":\n",
    "#         await metamask_page.get_by_test_id(\"activity-list-item\").first.click()\n",
    "#         await metamask_page.get_by_test_id(\"page-container-footer-next\").click()\n",
    "#         break\n",
    "await testnet_page.get_by_text(\"Done\").last.click()"
   ]
  },
  {
   "cell_type": "code",
   "execution_count": null,
   "metadata": {},
   "outputs": [],
   "source": [
    "await testnet_page.close()\n",
    "await metamask_page.close()\n",
    "await browser.close()"
   ]
  }
 ],
 "metadata": {
  "kernelspec": {
   "display_name": "Python 3",
   "language": "python",
   "name": "python3"
  },
  "language_info": {
   "codemirror_mode": {
    "name": "ipython",
    "version": 3
   },
   "file_extension": ".py",
   "mimetype": "text/x-python",
   "name": "python",
   "nbconvert_exporter": "python",
   "pygments_lexer": "ipython3",
   "version": "3.10.12"
  }
 },
 "nbformat": 4,
 "nbformat_minor": 2
}
